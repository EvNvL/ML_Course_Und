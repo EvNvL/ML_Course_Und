{
  "cells": [
    {
      "cell_type": "markdown",
      "metadata": {
        "id": "0K0OlPisCfzf"
      },
      "source": [
        "# Newton's Method"
      ]
    },
    {
      "cell_type": "markdown",
      "metadata": {
        "id": "VQqKl-kNCfzm"
      },
      "source": [
        "## overview\n",
        "\n",
        "- derivative and gradient functions\n",
        "\n",
        "- newton's method function\n",
        "\n",
        "- step-by-step GUI"
      ]
    },
    {
      "cell_type": "markdown",
      "metadata": {
        "id": "oW6E9VvcmYpd"
      },
      "source": [
        "# New Section\n",
        "\n",
        "References:\n",
        "\n",
        "- Non-Linear Optimization Course: dr.h Koushki\n",
        "- Autograd Github Repository : https://github.com/HIPS/autograd\n",
        "\n",
        "  (Autograd can automatically differentiate native Python and Numpy code)\n",
        "- Libraries notes.\n",
        "\n",
        "### Approaches for Computing Derivatives\n",
        "\n",
        "- **Symbolic differentiation:**\n",
        "$f(x) = x^2 \\rightarrow \\frac{df(x)}{dx} = 2x$\n",
        "\n",
        "- **Numeric differentiation:**\n",
        "$$\n",
        "\\frac{\\partial}{\\partial x_i} f(x_1, \\dots, x_N) = \\lim_{h \\to 0} \\frac{f(x_1, \\dots, x_i + h, \\dots, x_N) - f(x_1, \\dots, x_i - h, \\dots, x_N)}{2h}\n",
        "$$\n",
        "\n",
        "Results are the same:"
      ]
    },
    {
      "cell_type": "code",
      "source": [
        "import autograd.numpy as gnp\n",
        "from autograd import grad\n",
        "def tanh(x):\n",
        "    y = gnp.exp(-x)\n",
        "    return (1.0 - y) / (1.0 + y)\n",
        "grad_tanh = grad(tanh)\n",
        "print(grad_tanh(1.0)) #Symbolic\n",
        "print((tanh(1.0001) - tanh(0.9999)) / 0.0002) #Numeric\n",
        "# so grad from autograd works as intended\n",
        "# we are gonna use grad function for gradiant."
      ],
      "metadata": {
        "id": "lIgsHpapK8ko",
        "outputId": "c6215bee-d85e-41e3-cb7a-f35fec86eff4",
        "colab": {
          "base_uri": "https://localhost:8080/"
        }
      },
      "execution_count": null,
      "outputs": [
        {
          "output_type": "stream",
          "name": "stdout",
          "text": [
            "0.39322386648296376\n",
            "0.39322386636453377\n"
          ]
        }
      ]
    },
    {
      "cell_type": "markdown",
      "source": [
        "We use symbolic differentiation for the sake of Cpu usage...I GUESS...\n",
        "\n",
        "\n",
        "Now we start importing needed functions we need for basics; including matplotlib, numpy, torch and autograd and writing our own functions..."
      ],
      "metadata": {
        "id": "9ltMFpWsLm6A"
      }
    },
    {
      "cell_type": "code",
      "source": [
        "import numpy as np\n",
        "import matplotlib.pyplot as plt\n",
        "from sympy import Abs as abs\n",
        "%matplotlib inline\n",
        "from scipy import optimize"
      ],
      "metadata": {
        "id": "ZlhJvH0dV0ts"
      },
      "execution_count": null,
      "outputs": []
    },
    {
      "cell_type": "code",
      "source": [
        "import numpy.random as npr\n",
        "import torch\n",
        "from autograd import grad\n",
        "from sympy import symbols, hessian, Function, diff\n",
        "from sympy import *\n",
        "\n",
        "def simple_tensor_maker_2():\n",
        "    x_anp = np.array([1.0, 2.0, 3.0, 4.0])\n",
        "    x = torch.from_numpy(x_anp)\n",
        "    x.reshape(-1, 1) + x\n",
        "    return x\n",
        "\n",
        "def graph(formula, x_range):\n",
        "    a = np.array(x_range)\n",
        "    y = formula.subs(x,a)\n",
        "    plt.plot(a, y)\n",
        "    plt.show()\n",
        "\n",
        "def newton(f,Df,x0,epsilon,max_iter):\n",
        "    xn = x0\n",
        "    l=[]\n",
        "    for n in range(0,max_iter):\n",
        "        fxn = f.subs(x,xn)\n",
        "        if abs(fxn) < epsilon:\n",
        "            print('Found solution after',n,'iterations.')\n",
        "            return xn,l\n",
        "        a=[xn,fxn]\n",
        "        l.append(a)\n",
        "        Dfxn = Df.subs(x,xn)\n",
        "        if Dfxn == 0:\n",
        "            print('Zero derivative. No solution found.')\n",
        "            return None,l\n",
        "        xn = xn - fxn/Dfxn\n",
        "\n",
        "    print('Exceeded maximum iterations. No solution found.')\n",
        "    return None,l\n",
        "\n",
        "def Convert(string):\n",
        "    li = list(string.split(\" \"))\n",
        "    li2=[]\n",
        "    for i in li:\n",
        "      li2.append(int(i))\n",
        "    return li2\n",
        "\n",
        "\n",
        "f = symbols('f', cls=Function)\n",
        "g = symbols('g', cls=Function)\n",
        "(x, y )= symbols('x y')\n",
        "coeff=Convert(input(\"coefficients: \"))\n",
        "powers=Convert(input(\"powers: \"))\n",
        "h=int(input(\"reminder: \"))\n",
        "a=''\n",
        "g=0\n",
        "\n",
        "for i in range(len(powers)):\n",
        "  f= coeff[i]*np.power(x,powers[i])\n",
        "  g= g + f\n",
        "g=g + h\n",
        "g1 = lambdify(x, g)\n",
        "#  print(g1,type(g1),g1(0),type(g1(0)))\n",
        "g2 = lambdify(x, diff(g))\n",
        "print(g)\n",
        "print(diff(g))\n",
        "#  print(g1(0))\n",
        "print(g2(0))\n",
        "x0s = [0.25]\n",
        "\n",
        "for x0 in x0s:\n",
        "   newton(g, diff(g), float(x0), float(0.00001),10)\n"
      ],
      "metadata": {
        "id": "w6JCz1w4LjCy",
        "colab": {
          "base_uri": "https://localhost:8080/"
        },
        "outputId": "ab51105c-3363-4912-8774-d956b967db3a"
      },
      "execution_count": null,
      "outputs": [
        {
          "output_type": "stream",
          "name": "stdout",
          "text": [
            "coefficients: 1 2 3 4\n",
            "powers: 1 2 3 4\n",
            "reminder: 12\n",
            "4*x**4 + 3*x**3 + 2*x**2 + x + 12\n",
            "16*x**3 + 9*x**2 + 4*x + 1\n",
            "1\n",
            "Exceeded maximum iterations. No solution found.\n"
          ]
        }
      ]
    },
    {
      "cell_type": "code",
      "source": [
        "from sympy import symbols, hessian, Function, diff\n",
        "\n",
        "\n",
        "(x, y )= symbols('x y')\n",
        "f = symbols('f', cls=Function)\n",
        "g = symbols('g', cls=Function)\n",
        "\n",
        "zarib=Convert(input(\"\"))\n",
        "powers=Convert(input(\"\"))\n",
        "a=''\n",
        "g=0\n",
        "for i in range(len(zarib)):\n",
        "  f= zarib[i]*np.power(x,powers[i])\n",
        "  g= g + f\n",
        "H = hessian(g, [x, y]).subs([(x,1), (y,1)])\n",
        "diff(sin(x)*exp(x), x)\n",
        "print(g)\n",
        "print(g)\n",
        "print(diff(g))\n",
        "print(np.array(H))\n",
        "def newton(f,Df,x0,epsilon,max_iter):\n",
        "    xn = x0\n",
        "    l=[]\n",
        "    for n in range(0,max_iter):\n",
        "        fxn = f.subs(x,xn)\n",
        "        a=[xn,fxn]\n",
        "        l.append(a)\n",
        "        if abs(fxn) < epsilon:\n",
        "            print('Found solution after',n,'iterations.')\n",
        "            return (xn,l)\n",
        "        Dfxn = Df.subs(x,xn)\n",
        "        if Dfxn == 0:\n",
        "            print('Zero derivative. No solution found.')\n",
        "            return (None,l)\n",
        "        xn = xn - fxn/Dfxn\n",
        "    print('Exceeded maximum iterations. No solution found.')\n",
        "    return (None,l)\n",
        "(solution,lisst)=newton(g,diff(g),1.5,0.001,120)\n",
        "print(solution)\n",
        "xss=[]\n",
        "fx=[]\n",
        "yss=[]\n",
        "fy=[]\n",
        "for i in lisst:\n",
        "  xss.append(i[0])\n",
        "  yss.append(i[1])\n",
        "for i in range(-1000,1000):\n",
        "  fx.append(i/10)\n",
        "  fy.append(g.subs(x,i/10))\n",
        "plt.plot(fx,fy,color=\"b\")\n",
        "plt.plot(xss,yss,color=\"r\")\n",
        "plt.show"
      ],
      "metadata": {
        "id": "IJ-nyjpqZcjg",
        "colab": {
          "base_uri": "https://localhost:8080/",
          "height": 450
        },
        "outputId": "4b44dfba-ed34-4594-e890-2e98d03c3ea2"
      },
      "execution_count": null,
      "outputs": [
        {
          "output_type": "stream",
          "name": "stdout",
          "text": [
            "1 2 3 4\n",
            "1 2 3 4\n",
            "4*x**4 + 3*x**3 + 2*x**2 + x\n",
            "4*x**4 + 3*x**3 + 2*x**2 + x\n",
            "16*x**3 + 9*x**2 + 4*x + 1\n",
            "[[70 0]\n",
            " [0 0]]\n",
            "Found solution after 7 iterations.\n",
            "0.000287410907691124\n"
          ]
        },
        {
          "output_type": "execute_result",
          "data": {
            "text/plain": [
              "<function matplotlib.pyplot.show>"
            ]
          },
          "metadata": {},
          "execution_count": 70
        },
        {
          "output_type": "display_data",
          "data": {
            "text/plain": [
              "<Figure size 432x288 with 1 Axes>"
            ],
            "image/png": "[encoded data removed]"
          },
          "metadata": {
            "needs_background": "light"
          }
        }
      ]
    },
    {
      "cell_type": "code",
      "source": [
        "from scipy import optimize\n",
        "import matplotlib.pyplot as plt\n",
        "def f(x):\n",
        "    return (x**3 - 1)\n",
        "root = optimize.newton(f, 1.5)\n",
        "print(root)\n",
        "root = optimize.newton(f, 1.5, fprime2=lambda x: 6 * x)\n",
        "print(root)\n",
        "root = optimize.newton(f, 1.5, fprime=lambda x: 3 * x**2)\n",
        "print(root)\n",
        "root = optimize.newton(f, 1.5, fprime=lambda x: 3 * x**2, fprime2=lambda x: 6 * x)\n",
        "print(root)"
      ],
      "metadata": {
        "id": "y8ZeXUEsSCW5",
        "colab": {
          "base_uri": "https://localhost:8080/"
        },
        "outputId": "795aebd1-9323-489e-c321-c64acfc1b7b5"
      },
      "execution_count": null,
      "outputs": [
        {
          "output_type": "stream",
          "name": "stdout",
          "text": [
            "1.0000000000000016\n",
            "1.0000000000000016\n",
            "1.0\n",
            "1.0\n"
          ]
        }
      ]
    }
  ],
  "metadata": {
    "colab": {
      "provenance": []
    },
    "kernelspec": {
      "display_name": "Python 3",
      "language": "python",
      "name": "python3"
    },
    "language_info": {
      "codemirror_mode": {
        "name": "ipython",
        "version": 3
      },
      "file_extension": ".py",
      "mimetype": "text/x-python",
      "name": "python",
      "nbconvert_exporter": "python",
      "pygments_lexer": "ipython3",
      "version": "3.8.6"
    }
  },
  "nbformat": 4,
  "nbformat_minor": 0
}