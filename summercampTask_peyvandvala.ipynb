{
  "cells": [
    {
      "cell_type": "code",
      "execution_count": null,
      "id": "1e23704f",
      "metadata": {
        "id": "1e23704f"
      },
      "outputs": [],
      "source": [
        "import pandas as pd\n",
        "import openpyxl\n",
        "import numpy as np"
      ]
    },
    {
      "cell_type": "code",
      "execution_count": null,
      "id": "696d5947",
      "metadata": {
        "collapsed": true,
        "id": "696d5947",
        "outputId": "b1ccf9bf-14f2-4b6a-bed3-43a23b41e74b"
      },
      "outputs": [
        {
          "name": "stdout",
          "output_type": "stream",
          "text": [
            "<class 'pandas.core.frame.DataFrame'>\n",
            "RangeIndex: 111083 entries, 0 to 111082\n",
            "Data columns (total 8 columns):\n",
            " #   Column                   Non-Null Count   Dtype  \n",
            "---  ------                   --------------   -----  \n",
            " 0   action                   111083 non-null  object \n",
            " 1   created_at               111083 non-null  int64  \n",
            " 2   source_event_id          111083 non-null  object \n",
            " 3   device_id                109596 non-null  object \n",
            " 4   post_page_offset         35287 non-null   float64\n",
            " 5   tokens                   35287 non-null   object \n",
            " 6   post_index_in_post_list  75796 non-null   float64\n",
            " 7   post_token               75795 non-null   object \n",
            "dtypes: float64(2), int64(1), object(5)\n",
            "memory usage: 4.7+ MB\n"
          ]
        }
      ],
      "source": [
        "dff = pd.read_excel(\"Summer Camp Task Data.xlsx\" , engine='openpyxl')\n",
        "df = dff.copy()\n",
        "df.info()"
      ]
    },
    {
      "cell_type": "code",
      "execution_count": null,
      "id": "d5076092",
      "metadata": {
        "id": "d5076092",
        "outputId": "8a021d8d-ef0f-48a2-c1ef-ec92ed2117f2"
      },
      "outputs": [
        {
          "data": {
            "text/plain": [
              "1"
            ]
          },
          "execution_count": 3,
          "metadata": {},
          "output_type": "execute_result"
        }
      ],
      "source": [
        "lpp = df[df.action != \"click_post\"]\n",
        "cp = df[df.action == \"click_post\"]\n",
        "exm1 = lpp[lpp.post_page_offset == 137]\n",
        "exm2 = lpp[lpp.post_page_offset == 138]\n",
        "exm2.shape[0] - exm1.shape[0]"
      ]
    },
    {
      "cell_type": "code",
      "execution_count": null,
      "id": "9ac3190e",
      "metadata": {
        "collapsed": true,
        "id": "9ac3190e",
        "outputId": "e8507a24-b97e-4535-ec4a-03b54ee97b9e"
      },
      "outputs": [
        {
          "name": "stderr",
          "output_type": "stream",
          "text": [
            "c:\\users\\mazinet rayaneh\\appdata\\local\\programs\\python\\python37-32\\lib\\site-packages\\ipykernel_launcher.py:2: SettingWithCopyWarning: \n",
            "A value is trying to be set on a copy of a slice from a DataFrame.\n",
            "Try using .loc[row_indexer,col_indexer] = value instead\n",
            "\n",
            "See the caveats in the documentation: https://pandas.pydata.org/pandas-docs/stable/user_guide/indexing.html#returning-a-view-versus-a-copy\n",
            "  \n"
          ]
        },
        {
          "data": {
            "text/plain": [
              "13.156440022111665"
            ]
          },
          "execution_count": 4,
          "metadata": {},
          "output_type": "execute_result"
        }
      ],
      "source": [
        "first_load = lpp[lpp.post_page_offset == 0]\n",
        "first_load[\"token_length\"] = (first_load['tokens'].str.len())/10\n",
        "tl_under10 = first_load[first_load.token_length < 10]\n",
        "dark_query = tl_under10.shape[0]/first_load.shape[0]\n",
        "dark_query_percent = dark_query*100\n",
        "dark_query_percent"
      ]
    },
    {
      "cell_type": "code",
      "execution_count": null,
      "id": "7d047cbc",
      "metadata": {
        "collapsed": true,
        "id": "7d047cbc",
        "outputId": "06d446e2-7b2a-4c8c-e394-f4d830b29b4a"
      },
      "outputs": [
        {
          "data": {
            "text/plain": [
              "0.3705361901716235"
            ]
          },
          "execution_count": 5,
          "metadata": {},
          "output_type": "execute_result"
        }
      ],
      "source": [
        "df.sort_values(\"source_event_id\" , ascending=False)\n",
        "query_lpp = lpp.source_event_id\n",
        "query_cp = cp.source_event_id\n",
        "dif_sei_lpp = query_lpp.drop_duplicates(keep='first', inplace=False)\n",
        "dif_sei_cpp = query_cp.drop_duplicates(keep='first', inplace=False)\n",
        "dif_sei_lpp.sort_values(ascending=False)\n",
        "dif_sei_cpp.sort_values(ascending=False)\n",
        "common_sei = len(np.intersect1d(dif_sei_cpp , dif_sei_lpp))\n",
        "only_lpp_sei= dif_sei_lpp.shape[0] - common_sei\n",
        "query_bounce_rate=only_lpp_sei/dif_sei_lpp.shape[0]\n",
        "query_bounce_rate"
      ]
    },
    {
      "cell_type": "code",
      "execution_count": null,
      "id": "10c017d0",
      "metadata": {
        "collapsed": true,
        "id": "10c017d0",
        "outputId": "40231720-cf27-47e6-8201-0ca0d0325797"
      },
      "outputs": [
        {
          "data": {
            "text/plain": [
              "['wXvjJTIc', 'wXvb5_SX', 'wXvb54Gs', '6c390fce-34b6-4e19-837e-6bc295a72514']"
            ]
          },
          "execution_count": 6,
          "metadata": {},
          "output_type": "execute_result"
        }
      ],
      "source": [
        "def token_extractor(df,i):\n",
        "    l=[]\n",
        "    for item in df.loc[i,\"tokens\"].split(\",\"):\n",
        "        l.append(item[1:])\n",
        "    l[-1]=l[-1][0:8]\n",
        "    idk=[]\n",
        "    for item in l[0:3]:\n",
        "        idk.append(item)\n",
        "    idk.append(df.loc[i,\"source_event_id\"])\n",
        "    return idk\n",
        "token_extractor(lpp,4)"
      ]
    },
    {
      "cell_type": "code",
      "execution_count": null,
      "id": "e3838a7b",
      "metadata": {
        "collapsed": true,
        "id": "e3838a7b",
        "outputId": "55874f11-4f44-4c2c-d5fe-cd96b6bc9d83"
      },
      "outputs": [
        {
          "data": {
            "text/html": [
              "<div>\n",
              "<style scoped>\n",
              "    .dataframe tbody tr th:only-of-type {\n",
              "        vertical-align: middle;\n",
              "    }\n",
              "\n",
              "    .dataframe tbody tr th {\n",
              "        vertical-align: top;\n",
              "    }\n",
              "\n",
              "    .dataframe thead th {\n",
              "        text-align: right;\n",
              "    }\n",
              "</style>\n",
              "<table border=\"1\" class=\"dataframe\">\n",
              "  <thead>\n",
              "    <tr style=\"text-align: right;\">\n",
              "      <th></th>\n",
              "      <th>0</th>\n",
              "      <th>1</th>\n",
              "      <th>2</th>\n",
              "      <th>3</th>\n",
              "    </tr>\n",
              "  </thead>\n",
              "  <tbody>\n",
              "    <tr>\n",
              "      <th>0</th>\n",
              "      <td>wXvHbNqU</td>\n",
              "      <td>wXvDrof9</td>\n",
              "      <td>wXv_aXHk</td>\n",
              "      <td>479905f2-3bb4-4c90-8e88-5ce4b60d0a73</td>\n",
              "    </tr>\n",
              "    <tr>\n",
              "      <th>1</th>\n",
              "      <td>wXvb7cpv</td>\n",
              "      <td>wXvH3hL0</td>\n",
              "      <td>wXvjmDaE</td>\n",
              "      <td>b9b609bd-a486-42fb-b1a9-5ca03cf4a215</td>\n",
              "    </tr>\n",
              "    <tr>\n",
              "      <th>2</th>\n",
              "      <td>wXv_oVL4</td>\n",
              "      <td>wXvrIudl</td>\n",
              "      <td>wXknzwdX</td>\n",
              "      <td>3898ebc8-ae35-4e6f-b924-5ce64f764dd1</td>\n",
              "    </tr>\n",
              "    <tr>\n",
              "      <th>3</th>\n",
              "      <td>wXr_DuyQ</td>\n",
              "      <td>wXpr43e5</td>\n",
              "      <td>wXl_rC8t</td>\n",
              "      <td>576278e1-9af0-4ed9-95c8-09a6b6c2e958</td>\n",
              "    </tr>\n",
              "    <tr>\n",
              "      <th>4</th>\n",
              "      <td>wXvra2va</td>\n",
              "      <td>wXvr6ZFP</td>\n",
              "      <td>wXvrKWRu</td>\n",
              "      <td>18e1e48c-0d83-476d-a374-fff86ac50966</td>\n",
              "    </tr>\n",
              "    <tr>\n",
              "      <th>...</th>\n",
              "      <td>...</td>\n",
              "      <td>...</td>\n",
              "      <td>...</td>\n",
              "      <td>...</td>\n",
              "    </tr>\n",
              "    <tr>\n",
              "      <th>9040</th>\n",
              "      <td>wXvD5mUV</td>\n",
              "      <td>wXv_o5Cb</td>\n",
              "      <td>wXv3HWXX</td>\n",
              "      <td>731df5bf-0a68-4526-bcd8-6e5b4414b282</td>\n",
              "    </tr>\n",
              "    <tr>\n",
              "      <th>9041</th>\n",
              "      <td>wXvTRHJH</td>\n",
              "      <td>wXuHdYVk</td>\n",
              "      <td>wXu_BWDr</td>\n",
              "      <td>a5580ad0-fcd5-4f63-8299-ecf5d972c17d</td>\n",
              "    </tr>\n",
              "    <tr>\n",
              "      <th>9042</th>\n",
              "      <td>wXnzpKrs</td>\n",
              "      <td>wXfj3D6R</td>\n",
              "      <td>wXTfoqq7</td>\n",
              "      <td>9e2634d6-f7bc-4e68-8d77-119bece8141e</td>\n",
              "    </tr>\n",
              "    <tr>\n",
              "      <th>9043</th>\n",
              "      <td>wXv3qoPQ</td>\n",
              "      <td>wXvT7ylu</td>\n",
              "      <td>wXvnIJuH</td>\n",
              "      <td>f55b2133-4f95-4cc5-8d18-1b47bd3dca63</td>\n",
              "    </tr>\n",
              "    <tr>\n",
              "      <th>9044</th>\n",
              "      <td>wXv3aQrv</td>\n",
              "      <td>wXvn6ONM</td>\n",
              "      <td>wXvfaG0M</td>\n",
              "      <td>4ec64b79-27c4-4fba-b84c-b877dc82970a</td>\n",
              "    </tr>\n",
              "  </tbody>\n",
              "</table>\n",
              "<p>9045 rows × 4 columns</p>\n",
              "</div>"
            ],
            "text/plain": [
              "             0         1         2                                     3\n",
              "0     wXvHbNqU  wXvDrof9  wXv_aXHk  479905f2-3bb4-4c90-8e88-5ce4b60d0a73\n",
              "1     wXvb7cpv  wXvH3hL0  wXvjmDaE  b9b609bd-a486-42fb-b1a9-5ca03cf4a215\n",
              "2     wXv_oVL4  wXvrIudl  wXknzwdX  3898ebc8-ae35-4e6f-b924-5ce64f764dd1\n",
              "3     wXr_DuyQ  wXpr43e5  wXl_rC8t  576278e1-9af0-4ed9-95c8-09a6b6c2e958\n",
              "4     wXvra2va  wXvr6ZFP  wXvrKWRu  18e1e48c-0d83-476d-a374-fff86ac50966\n",
              "...        ...       ...       ...                                   ...\n",
              "9040  wXvD5mUV  wXv_o5Cb  wXv3HWXX  731df5bf-0a68-4526-bcd8-6e5b4414b282\n",
              "9041  wXvTRHJH  wXuHdYVk  wXu_BWDr  a5580ad0-fcd5-4f63-8299-ecf5d972c17d\n",
              "9042  wXnzpKrs  wXfj3D6R  wXTfoqq7  9e2634d6-f7bc-4e68-8d77-119bece8141e\n",
              "9043  wXv3qoPQ  wXvT7ylu  wXvnIJuH  f55b2133-4f95-4cc5-8d18-1b47bd3dca63\n",
              "9044  wXv3aQrv  wXvn6ONM  wXvfaG0M  4ec64b79-27c4-4fba-b84c-b877dc82970a\n",
              "\n",
              "[9045 rows x 4 columns]"
            ]
          },
          "execution_count": 7,
          "metadata": {},
          "output_type": "execute_result"
        }
      ],
      "source": [
        "lpp_sorted = lpp.sort_values(\"source_event_id\" , ascending=False)\n",
        "first_load = lpp[lpp.post_page_offset == 0]\n",
        "l=[]\n",
        "for i in range(first_load.shape[0]):\n",
        "    l.append(token_extractor(first_load , first_load.index[i]))\n",
        "lol=pd.DataFrame(l)\n",
        "lol"
      ]
    },
    {
      "cell_type": "code",
      "execution_count": null,
      "id": "f04b6c5a",
      "metadata": {
        "id": "f04b6c5a",
        "outputId": "2f93c01c-1898-4cf4-82ce-9e510508a17b"
      },
      "outputs": [
        {
          "data": {
            "text/plain": [
              "0.27993366500829187"
            ]
          },
          "execution_count": 9,
          "metadata": {},
          "output_type": "execute_result"
        }
      ],
      "source": [
        "li=[]\n",
        "cp1=cp.copy()\n",
        "cp2=cp1.drop_duplicates(subset=[\"post_token\"])\n",
        "fpc = cp2[cp2['source_event_id'].isin(lol[3]) & cp2['post_token'].isin(lol[0])]\n",
        "spc = cp2[cp2['source_event_id'].isin(lol[3]) & cp2['post_token'].isin(lol[1])]\n",
        "tpc = cp2[cp2['source_event_id'].isin(lol[3]) & cp2['post_token'].isin(lol[2])]\n",
        "frames = [fpc , spc , tpc]\n",
        "allcp = pd.concat(frames)\n",
        "allcp_main =allcp.drop_duplicates(subset=[\"source_event_id\"])\n",
        "allcp_main.shape[0]/first_load.shape[0]\n"
      ]
    }
  ],
  "metadata": {
    "kernelspec": {
      "display_name": "Python 3",
      "language": "python",
      "name": "python3"
    },
    "language_info": {
      "codemirror_mode": {
        "name": "ipython",
        "version": 3
      },
      "file_extension": ".py",
      "mimetype": "text/x-python",
      "name": "python",
      "nbconvert_exporter": "python",
      "pygments_lexer": "ipython3",
      "version": "3.7.0"
    },
    "colab": {
      "provenance": []
    }
  },
  "nbformat": 4,
  "nbformat_minor": 5
}